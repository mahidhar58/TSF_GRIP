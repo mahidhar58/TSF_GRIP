{
 "cells": [
  {
   "cell_type": "markdown",
   "id": "eff19898",
   "metadata": {},
   "source": [
    "# Prediction using Supervised ML\n",
    "\n",
    "In this task, we will see how machine learning can be used to implement regression functions. This regression function involves two variables.\n",
    "\n",
    "# Simple Linear regression\n",
    "\n",
    "In this regression task, we will predict the percentage of the marks scored by a student based on the number of hours they studied.\n",
    "\n",
    "# Libraries used in this code\n",
    "\n",
    "**Pandas** to manipulate the data. <br>\n",
    "**Matplotlib** to visualize the data. <br>\n",
    "**Sklearn** to model the data using linear regression and evaluate the model."
   ]
  },
  {
   "cell_type": "markdown",
   "id": "d8f69fcb",
   "metadata": {},
   "source": [
    "# Author\n",
    "\n",
    "**T. Mahidhar Vardhan**"
   ]
  },
  {
   "cell_type": "markdown",
   "id": "a11630e2",
   "metadata": {},
   "source": [
    "**Import the required libraries**"
   ]
  },
  {
   "cell_type": "code",
   "execution_count": 1,
   "id": "3e7870c3",
   "metadata": {},
   "outputs": [],
   "source": [
    "import pandas as pd\n",
    "import matplotlib.pyplot as plt\n",
    "from sklearn import metrics\n",
    "from sklearn.model_selection import train_test_split\n",
    "from sklearn.linear_model import LinearRegression\n",
    "%matplotlib inline\n",
    "#This command allows us to store and see the resulting graphs in our code."
   ]
  },
  {
   "cell_type": "markdown",
   "id": "b0afedbf",
   "metadata": {},
   "source": [
    "**Retrieve the data**"
   ]
  },
  {
   "cell_type": "code",
   "execution_count": 2,
   "id": "ffcf7dfb",
   "metadata": {},
   "outputs": [
    {
     "data": {
      "text/html": [
       "<div>\n",
       "<style scoped>\n",
       "    .dataframe tbody tr th:only-of-type {\n",
       "        vertical-align: middle;\n",
       "    }\n",
       "\n",
       "    .dataframe tbody tr th {\n",
       "        vertical-align: top;\n",
       "    }\n",
       "\n",
       "    .dataframe thead th {\n",
       "        text-align: right;\n",
       "    }\n",
       "</style>\n",
       "<table border=\"1\" class=\"dataframe\">\n",
       "  <thead>\n",
       "    <tr style=\"text-align: right;\">\n",
       "      <th></th>\n",
       "      <th>Hours</th>\n",
       "      <th>Scores</th>\n",
       "    </tr>\n",
       "  </thead>\n",
       "  <tbody>\n",
       "    <tr>\n",
       "      <th>0</th>\n",
       "      <td>2.5</td>\n",
       "      <td>21</td>\n",
       "    </tr>\n",
       "    <tr>\n",
       "      <th>1</th>\n",
       "      <td>5.1</td>\n",
       "      <td>47</td>\n",
       "    </tr>\n",
       "    <tr>\n",
       "      <th>2</th>\n",
       "      <td>3.2</td>\n",
       "      <td>27</td>\n",
       "    </tr>\n",
       "    <tr>\n",
       "      <th>3</th>\n",
       "      <td>8.5</td>\n",
       "      <td>75</td>\n",
       "    </tr>\n",
       "    <tr>\n",
       "      <th>4</th>\n",
       "      <td>3.5</td>\n",
       "      <td>30</td>\n",
       "    </tr>\n",
       "  </tbody>\n",
       "</table>\n",
       "</div>"
      ],
      "text/plain": [
       "   Hours  Scores\n",
       "0    2.5      21\n",
       "1    5.1      47\n",
       "2    3.2      27\n",
       "3    8.5      75\n",
       "4    3.5      30"
      ]
     },
     "execution_count": 2,
     "metadata": {},
     "output_type": "execute_result"
    }
   ],
   "source": [
    "data = pd.read_csv(\"http://bit.ly/w-data\")\n",
    "data.head()"
   ]
  },
  {
   "cell_type": "markdown",
   "id": "08e72695",
   "metadata": {},
   "source": [
    "**Check for the null values and correlation**"
   ]
  },
  {
   "cell_type": "code",
   "execution_count": 3,
   "id": "9e3ab4ae",
   "metadata": {},
   "outputs": [
    {
     "name": "stdout",
     "output_type": "stream",
     "text": [
      "Test for null values:\n",
      "False\n",
      "Correlation matrix: \n",
      "\n",
      "           Hours    Scores\n",
      "Hours   1.000000  0.976191\n",
      "Scores  0.976191  1.000000\n"
     ]
    }
   ],
   "source": [
    "print(\"Test for null values:\")\n",
    "print(data.isnull().values.any())\n",
    "cor_mat = data.corr()\n",
    "print(\"Correlation matrix: \\n\")\n",
    "print(cor_mat)"
   ]
  },
  {
   "cell_type": "markdown",
   "id": "a6a41118",
   "metadata": {},
   "source": [
    "Since, there are no null values and the attributes are highly correlated, we'll try to plot the data on a 2d graph "
   ]
  },
  {
   "cell_type": "markdown",
   "id": "2879e3f3",
   "metadata": {},
   "source": [
    "**Plotting the data on a 2d graph**"
   ]
  },
  {
   "cell_type": "code",
   "execution_count": 4,
   "id": "8432125f",
   "metadata": {
    "scrolled": true
   },
   "outputs": [
    {
     "data": {
      "image/png": "[encoded data removed]",
      "text/plain": [
       "<Figure size 432x288 with 1 Axes>"
      ]
     },
     "metadata": {
      "needs_background": "light"
     },
     "output_type": "display_data"
    }
   ],
   "source": [
    "data.plot(x='Hours',y='Scores',style='.')\n",
    "plt.title('Hours vs Scores')\n",
    "plt.xlabel('Hours')\n",
    "plt.ylabel('Scores')\n",
    "plt.show()"
   ]
  },
  {
   "cell_type": "markdown",
   "id": "5bfd2326",
   "metadata": {},
   "source": [
    "We are trying to establish a linear relationship between the two variables 'Hours' and 'Scores'"
   ]
  },
  {
   "cell_type": "markdown",
   "id": "2cb9ae70",
   "metadata": {},
   "source": [
    "**Preparing the data**\n",
    "\n",
    "Divide the data into two sets as x(input) and y(output)"
   ]
  },
  {
   "cell_type": "code",
   "execution_count": 5,
   "id": "b9c7bfac",
   "metadata": {},
   "outputs": [],
   "source": [
    "x = data.iloc[:,:1].values                                      #Input variable\n",
    "y = data.iloc[:,-1:].values                                     #Output variable, also known as 'target'"
   ]
  },
  {
   "cell_type": "markdown",
   "id": "2dbb072e",
   "metadata": {},
   "source": [
    "**Split the data into training and testing sets**\n",
    "\n",
    "We use sklearn method 'train_test_split' to split the data into training and testing sets."
   ]
  },
  {
   "cell_type": "code",
   "execution_count": 6,
   "id": "1c5c5879",
   "metadata": {},
   "outputs": [],
   "source": [
    "#Dividing the 60% data for training set and 40%  for testing set\n",
    "x_train,x_test,y_train,y_test = train_test_split(x,y,test_size = 0.4,random_state = 1)"
   ]
  },
  {
   "cell_type": "markdown",
   "id": "1644947d",
   "metadata": {},
   "source": [
    "**Training the model**\n",
    "\n",
    "Since we prepared the data, we should train our model now.\n",
    "We will train our data using linear regression model"
   ]
  },
  {
   "cell_type": "code",
   "execution_count": 7,
   "id": "f0c07e4f",
   "metadata": {},
   "outputs": [
    {
     "data": {
      "text/plain": [
       "LinearRegression()"
      ]
     },
     "execution_count": 7,
     "metadata": {},
     "output_type": "execute_result"
    }
   ],
   "source": [
    "reg = LinearRegression()\n",
    "reg.fit(x_train,y_train)"
   ]
  },
  {
   "cell_type": "code",
   "execution_count": 8,
   "id": "9ec90697",
   "metadata": {},
   "outputs": [
    {
     "data": {
      "image/png": "[encoded data removed]",
      "text/plain": [
       "<Figure size 432x288 with 1 Axes>"
      ]
     },
     "metadata": {
      "needs_background": "light"
     },
     "output_type": "display_data"
    }
   ],
   "source": [
    "line = reg.coef_*x+reg.intercept_\n",
    "\n",
    "plt.title(\"Hours vs Scores\")\n",
    "plt.xlabel(\"Hours\")\n",
    "plt.ylabel(\"Scores\")\n",
    "plt.scatter(x,y)\n",
    "plt.plot(x,line)\n",
    "plt.show()"
   ]
  },
  {
   "cell_type": "markdown",
   "id": "92d0ec7b",
   "metadata": {},
   "source": [
    "**Predict the data**\n",
    "\n",
    "Since we trained our model, we should test it against the testing set"
   ]
  },
  {
   "cell_type": "code",
   "execution_count": 9,
   "id": "241397a1",
   "metadata": {},
   "outputs": [],
   "source": [
    "y_pred = reg.predict(x_test)\n"
   ]
  },
  {
   "cell_type": "code",
   "execution_count": 10,
   "id": "00cc12d8",
   "metadata": {
    "scrolled": true
   },
   "outputs": [
    {
     "data": {
      "text/html": [
       "<div>\n",
       "<style scoped>\n",
       "    .dataframe tbody tr th:only-of-type {\n",
       "        vertical-align: middle;\n",
       "    }\n",
       "\n",
       "    .dataframe tbody tr th {\n",
       "        vertical-align: top;\n",
       "    }\n",
       "\n",
       "    .dataframe thead th {\n",
       "        text-align: right;\n",
       "    }\n",
       "</style>\n",
       "<table border=\"1\" class=\"dataframe\">\n",
       "  <thead>\n",
       "    <tr style=\"text-align: right;\">\n",
       "      <th></th>\n",
       "      <th>Actual</th>\n",
       "      <th>Predicted</th>\n",
       "    </tr>\n",
       "  </thead>\n",
       "  <tbody>\n",
       "    <tr>\n",
       "      <th>0</th>\n",
       "      <td>17</td>\n",
       "      <td>11.374353</td>\n",
       "    </tr>\n",
       "    <tr>\n",
       "      <th>1</th>\n",
       "      <td>42</td>\n",
       "      <td>33.854718</td>\n",
       "    </tr>\n",
       "    <tr>\n",
       "      <th>2</th>\n",
       "      <td>24</td>\n",
       "      <td>19.549031</td>\n",
       "    </tr>\n",
       "    <tr>\n",
       "      <th>3</th>\n",
       "      <td>75</td>\n",
       "      <td>86.990125</td>\n",
       "    </tr>\n",
       "    <tr>\n",
       "      <th>4</th>\n",
       "      <td>54</td>\n",
       "      <td>49.182239</td>\n",
       "    </tr>\n",
       "    <tr>\n",
       "      <th>5</th>\n",
       "      <td>85</td>\n",
       "      <td>78.815447</td>\n",
       "    </tr>\n",
       "    <tr>\n",
       "      <th>6</th>\n",
       "      <td>67</td>\n",
       "      <td>62.466091</td>\n",
       "    </tr>\n",
       "    <tr>\n",
       "      <th>7</th>\n",
       "      <td>69</td>\n",
       "      <td>75.749943</td>\n",
       "    </tr>\n",
       "    <tr>\n",
       "      <th>8</th>\n",
       "      <td>30</td>\n",
       "      <td>35.898387</td>\n",
       "    </tr>\n",
       "    <tr>\n",
       "      <th>9</th>\n",
       "      <td>27</td>\n",
       "      <td>32.832883</td>\n",
       "    </tr>\n",
       "  </tbody>\n",
       "</table>\n",
       "</div>"
      ],
      "text/plain": [
       "   Actual  Predicted\n",
       "0      17  11.374353\n",
       "1      42  33.854718\n",
       "2      24  19.549031\n",
       "3      75  86.990125\n",
       "4      54  49.182239\n",
       "5      85  78.815447\n",
       "6      67  62.466091\n",
       "7      69  75.749943\n",
       "8      30  35.898387\n",
       "9      27  32.832883"
      ]
     },
     "execution_count": 10,
     "metadata": {},
     "output_type": "execute_result"
    }
   ],
   "source": [
    "actual = [i[0] for i in y_test]\n",
    "pred = [i[0] for i in y_pred]                #These lines are to remove the [] because the data is in the form of numpy.ndarray\n",
    "\n",
    "l=list(zip(actual,pred))                      #Zip the datasets instead of enumerating and pass it as a list\n",
    "\n",
    "df = pd.DataFrame(l,columns=['Actual','Predicted'])          \n",
    "df                                             #Create a dataframe with the passed list"
   ]
  },
  {
   "cell_type": "markdown",
   "id": "3bf53ec5",
   "metadata": {},
   "source": [
    "**Let's calculate the metrics of our model**"
   ]
  },
  {
   "cell_type": "markdown",
   "id": "87e234df",
   "metadata": {},
   "source": [
    "Mean absolute error"
   ]
  },
  {
   "cell_type": "code",
   "execution_count": 11,
   "id": "90688f0e",
   "metadata": {},
   "outputs": [
    {
     "name": "stdout",
     "output_type": "stream",
     "text": [
      "Mean absolute error = 6.423\n"
     ]
    }
   ],
   "source": [
    "a = metrics.mean_absolute_error(y_test,y_pred)\n",
    "print('Mean absolute error = {:.3f}'.format(a))\n",
    "#{:.3f} represents the floating number must be precise upto 3 digits"
   ]
  },
  {
   "cell_type": "markdown",
   "id": "ebc56b7e",
   "metadata": {},
   "source": [
    "Cost function of our model after learning"
   ]
  },
  {
   "cell_type": "code",
   "execution_count": 12,
   "id": "fd8c9bc7",
   "metadata": {},
   "outputs": [
    {
     "ename": "ValueError",
     "evalue": "too many values to unpack (expected 2)",
     "output_type": "error",
     "traceback": [
      "\u001b[1;31m---------------------------------------------------------------------------\u001b[0m",
      "\u001b[1;31mValueError\u001b[0m                                Traceback (most recent call last)",
      "\u001b[1;32m<ipython-input-12-028a3f04cef6>\u001b[0m in \u001b[0;36m<module>\u001b[1;34m\u001b[0m\n\u001b[0;32m      1\u001b[0m \u001b[0ms\u001b[0m\u001b[1;33m=\u001b[0m\u001b[1;36m0\u001b[0m\u001b[1;33m\u001b[0m\u001b[1;33m\u001b[0m\u001b[0m\n\u001b[1;32m----> 2\u001b[1;33m \u001b[1;32mfor\u001b[0m \u001b[0mi\u001b[0m\u001b[1;33m,\u001b[0m\u001b[0mj\u001b[0m \u001b[1;32min\u001b[0m \u001b[0mactual\u001b[0m\u001b[1;33m,\u001b[0m\u001b[0mpred\u001b[0m\u001b[1;33m:\u001b[0m                          \u001b[1;31m#Zipping lists instead of enumerating\u001b[0m\u001b[1;33m\u001b[0m\u001b[1;33m\u001b[0m\u001b[0m\n\u001b[0m\u001b[0;32m      3\u001b[0m     \u001b[0ms\u001b[0m \u001b[1;33m+=\u001b[0m \u001b[1;33m(\u001b[0m\u001b[0mi\u001b[0m\u001b[1;33m-\u001b[0m\u001b[0mj\u001b[0m\u001b[1;33m)\u001b[0m\u001b[1;33m**\u001b[0m\u001b[1;36m2\u001b[0m\u001b[1;33m\u001b[0m\u001b[1;33m\u001b[0m\u001b[0m\n\u001b[0;32m      4\u001b[0m \u001b[1;33m\u001b[0m\u001b[0m\n\u001b[0;32m      5\u001b[0m \u001b[0mJ\u001b[0m \u001b[1;33m=\u001b[0m \u001b[0ms\u001b[0m\u001b[1;33m/\u001b[0m\u001b[0mlen\u001b[0m\u001b[1;33m(\u001b[0m\u001b[0mactual\u001b[0m\u001b[1;33m)\u001b[0m\u001b[1;33m\u001b[0m\u001b[1;33m\u001b[0m\u001b[0m\n",
      "\u001b[1;31mValueError\u001b[0m: too many values to unpack (expected 2)"
     ]
    }
   ],
   "source": [
    "s=0\n",
    "for i,j in actual,pred:                          #Zipping lists instead of enumerating\n",
    "    s += (i-j)**2\n",
    "\n",
    "J = s/len(actual)\n",
    "print('J = {:.3f}'.format(J))"
   ]
  },
  {
   "cell_type": "markdown",
   "id": "1783a713",
   "metadata": {},
   "source": [
    "R2 Score of our model"
   ]
  },
  {
   "cell_type": "code",
   "execution_count": 13,
   "id": "8413eaf7",
   "metadata": {},
   "outputs": [
    {
     "name": "stdout",
     "output_type": "stream",
     "text": [
      "R2 Score: 0.913\n"
     ]
    }
   ],
   "source": [
    "print('R2 Score: {:.3f}'.format(metrics.r2_score(y_test,y_pred)))               #Truncate the result to 3 decimals"
   ]
  },
  {
   "cell_type": "markdown",
   "id": "119238be",
   "metadata": {},
   "source": [
    "Since our model is prepared, we should predict the 'Score' if a student studies for 9.25 hours everyday"
   ]
  },
  {
   "cell_type": "code",
   "execution_count": 14,
   "id": "1fd425e4",
   "metadata": {},
   "outputs": [
    {
     "name": "stdout",
     "output_type": "stream",
     "text": [
      "Predicted score = 94.65\n"
     ]
    }
   ],
   "source": [
    "hours = [[9.25]]\n",
    "prediction = reg.predict(hours)\n",
    "print('Predicted score = {:.2f}'.format(prediction[0][0]))                     #Truncate the result to 2 decimals\n",
    "#Since our regressor uses numpy 2d array, we use prediction[][]"
   ]
  },
  {
   "cell_type": "markdown",
   "id": "1cc8290e",
   "metadata": {},
   "source": [
    "**According to our model, the student can score upto 94.65% if he studies 9.25 hours everyday**"
   ]
  }
 ],
 "metadata": {
  "kernelspec": {
   "display_name": "Python 3",
   "language": "python",
   "name": "python3"
  },
  "language_info": {
   "codemirror_mode": {
    "name": "ipython",
    "version": 3
   },
   "file_extension": ".py",
   "mimetype": "text/x-python",
   "name": "python",
   "nbconvert_exporter": "python",
   "pygments_lexer": "ipython3",
   "version": "3.8.7"
  }
 },
 "nbformat": 4,
 "nbformat_minor": 5
}
