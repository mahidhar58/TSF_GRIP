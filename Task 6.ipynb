{
 "cells": [
  {
   "cell_type": "markdown",
   "id": "176cac14",
   "metadata": {},
   "source": [
    "# Prediction using Decision Tree Classifier\n",
    "\n",
    "In this task, we will learn how to classify the data using Decision tree classifier\n",
    "\n",
    "<h2>Decision Tree Classifier</h2>\n",
    "\n",
    "Here, the flowers should be classified into their species according to their Sepal length, Sepal width, Petal length, Petal width.<br>\n",
    "The species are Iris-setosa, Iris-versicolor, Iris-virginica\n",
    "\n",
    "<h2>Libraries used in this code</h2>\n",
    "\n",
    "**Pandas** to import and analyse the data.<br>\n",
    "**Sklearn.tree** to model our decision tree classifier.<br>\n",
    "**Matplotlib.pyplot** to plot the data on a 2d graph.<br>\n",
    "**sklearn.model_selection** to split the data into taining and testing sets.<br>\n",
    "**sklearn.tree** to visualise the decision tree."
   ]
  },
  {
   "cell_type": "markdown",
   "id": "6b085ef1",
   "metadata": {},
   "source": [
    "# Author\n",
    "<h2>T. Mahidhar Vardhan</h2>"
   ]
  },
  {
   "cell_type": "code",
   "execution_count": 1,
   "id": "c04d56fb",
   "metadata": {},
   "outputs": [],
   "source": [
    "# importing the required libraries\n",
    "\n",
    "import pandas as pd\n",
    "from sklearn.tree import DecisionTreeClassifier\n",
    "from sklearn.model_selection import train_test_split\n",
    "from sklearn import tree\n",
    "import matplotlib.pyplot as plt\n",
    "%matplotlib inline"
   ]
  },
  {
   "cell_type": "code",
   "execution_count": 2,
   "id": "36e8c85f",
   "metadata": {},
   "outputs": [
    {
     "data": {
      "text/html": [
       "<div>\n",
       "<style scoped>\n",
       "    .dataframe tbody tr th:only-of-type {\n",
       "        vertical-align: middle;\n",
       "    }\n",
       "\n",
       "    .dataframe tbody tr th {\n",
       "        vertical-align: top;\n",
       "    }\n",
       "\n",
       "    .dataframe thead th {\n",
       "        text-align: right;\n",
       "    }\n",
       "</style>\n",
       "<table border=\"1\" class=\"dataframe\">\n",
       "  <thead>\n",
       "    <tr style=\"text-align: right;\">\n",
       "      <th></th>\n",
       "      <th>Id</th>\n",
       "      <th>SepalLengthCm</th>\n",
       "      <th>SepalWidthCm</th>\n",
       "      <th>PetalLengthCm</th>\n",
       "      <th>PetalWidthCm</th>\n",
       "      <th>Species</th>\n",
       "    </tr>\n",
       "  </thead>\n",
       "  <tbody>\n",
       "    <tr>\n",
       "      <th>0</th>\n",
       "      <td>1</td>\n",
       "      <td>5.1</td>\n",
       "      <td>3.5</td>\n",
       "      <td>1.4</td>\n",
       "      <td>0.2</td>\n",
       "      <td>Iris-setosa</td>\n",
       "    </tr>\n",
       "    <tr>\n",
       "      <th>1</th>\n",
       "      <td>2</td>\n",
       "      <td>4.9</td>\n",
       "      <td>3.0</td>\n",
       "      <td>1.4</td>\n",
       "      <td>0.2</td>\n",
       "      <td>Iris-setosa</td>\n",
       "    </tr>\n",
       "    <tr>\n",
       "      <th>2</th>\n",
       "      <td>3</td>\n",
       "      <td>4.7</td>\n",
       "      <td>3.2</td>\n",
       "      <td>1.3</td>\n",
       "      <td>0.2</td>\n",
       "      <td>Iris-setosa</td>\n",
       "    </tr>\n",
       "    <tr>\n",
       "      <th>3</th>\n",
       "      <td>4</td>\n",
       "      <td>4.6</td>\n",
       "      <td>3.1</td>\n",
       "      <td>1.5</td>\n",
       "      <td>0.2</td>\n",
       "      <td>Iris-setosa</td>\n",
       "    </tr>\n",
       "    <tr>\n",
       "      <th>4</th>\n",
       "      <td>5</td>\n",
       "      <td>5.0</td>\n",
       "      <td>3.6</td>\n",
       "      <td>1.4</td>\n",
       "      <td>0.2</td>\n",
       "      <td>Iris-setosa</td>\n",
       "    </tr>\n",
       "  </tbody>\n",
       "</table>\n",
       "</div>"
      ],
      "text/plain": [
       "   Id  SepalLengthCm  SepalWidthCm  PetalLengthCm  PetalWidthCm      Species\n",
       "0   1            5.1           3.5            1.4           0.2  Iris-setosa\n",
       "1   2            4.9           3.0            1.4           0.2  Iris-setosa\n",
       "2   3            4.7           3.2            1.3           0.2  Iris-setosa\n",
       "3   4            4.6           3.1            1.5           0.2  Iris-setosa\n",
       "4   5            5.0           3.6            1.4           0.2  Iris-setosa"
      ]
     },
     "execution_count": 2,
     "metadata": {},
     "output_type": "execute_result"
    }
   ],
   "source": [
    "# importing the data\n",
    "data = pd.read_csv('./Iris.csv')\n",
    "data.head()"
   ]
  },
  {
   "cell_type": "markdown",
   "id": "91f6b9d4",
   "metadata": {},
   "source": [
    "**Checking for total entries, data type**"
   ]
  },
  {
   "cell_type": "code",
   "execution_count": 3,
   "id": "14c1323c",
   "metadata": {},
   "outputs": [
    {
     "name": "stdout",
     "output_type": "stream",
     "text": [
      "<class 'pandas.core.frame.DataFrame'>\n",
      "RangeIndex: 150 entries, 0 to 149\n",
      "Data columns (total 6 columns):\n",
      " #   Column         Non-Null Count  Dtype  \n",
      "---  ------         --------------  -----  \n",
      " 0   Id             150 non-null    int64  \n",
      " 1   SepalLengthCm  150 non-null    float64\n",
      " 2   SepalWidthCm   150 non-null    float64\n",
      " 3   PetalLengthCm  150 non-null    float64\n",
      " 4   PetalWidthCm   150 non-null    float64\n",
      " 5   Species        150 non-null    object \n",
      "dtypes: float64(4), int64(1), object(1)\n",
      "memory usage: 7.2+ KB\n"
     ]
    }
   ],
   "source": [
    "data.info()"
   ]
  },
  {
   "cell_type": "code",
   "execution_count": 4,
   "id": "7b5758b2",
   "metadata": {},
   "outputs": [
    {
     "data": {
      "text/plain": [
       "Id               False\n",
       "SepalLengthCm    False\n",
       "SepalWidthCm     False\n",
       "PetalLengthCm    False\n",
       "PetalWidthCm     False\n",
       "Species          False\n",
       "dtype: bool"
      ]
     },
     "execution_count": 4,
     "metadata": {},
     "output_type": "execute_result"
    }
   ],
   "source": [
    "# checking for null data\n",
    "data.isna().any()"
   ]
  },
  {
   "cell_type": "markdown",
   "id": "73a058c2",
   "metadata": {},
   "source": [
    "**Statistics of the data**"
   ]
  },
  {
   "cell_type": "code",
   "execution_count": 5,
   "id": "71d1c7f1",
   "metadata": {},
   "outputs": [
    {
     "data": {
      "text/html": [
       "<div>\n",
       "<style scoped>\n",
       "    .dataframe tbody tr th:only-of-type {\n",
       "        vertical-align: middle;\n",
       "    }\n",
       "\n",
       "    .dataframe tbody tr th {\n",
       "        vertical-align: top;\n",
       "    }\n",
       "\n",
       "    .dataframe thead th {\n",
       "        text-align: right;\n",
       "    }\n",
       "</style>\n",
       "<table border=\"1\" class=\"dataframe\">\n",
       "  <thead>\n",
       "    <tr style=\"text-align: right;\">\n",
       "      <th></th>\n",
       "      <th>SepalLengthCm</th>\n",
       "      <th>SepalWidthCm</th>\n",
       "      <th>PetalLengthCm</th>\n",
       "      <th>PetalWidthCm</th>\n",
       "    </tr>\n",
       "  </thead>\n",
       "  <tbody>\n",
       "    <tr>\n",
       "      <th>count</th>\n",
       "      <td>150.00</td>\n",
       "      <td>150.00</td>\n",
       "      <td>150.00</td>\n",
       "      <td>150.00</td>\n",
       "    </tr>\n",
       "    <tr>\n",
       "      <th>mean</th>\n",
       "      <td>5.84</td>\n",
       "      <td>3.05</td>\n",
       "      <td>3.76</td>\n",
       "      <td>1.20</td>\n",
       "    </tr>\n",
       "    <tr>\n",
       "      <th>std</th>\n",
       "      <td>0.83</td>\n",
       "      <td>0.43</td>\n",
       "      <td>1.76</td>\n",
       "      <td>0.76</td>\n",
       "    </tr>\n",
       "    <tr>\n",
       "      <th>min</th>\n",
       "      <td>4.30</td>\n",
       "      <td>2.00</td>\n",
       "      <td>1.00</td>\n",
       "      <td>0.10</td>\n",
       "    </tr>\n",
       "    <tr>\n",
       "      <th>25%</th>\n",
       "      <td>5.10</td>\n",
       "      <td>2.80</td>\n",
       "      <td>1.60</td>\n",
       "      <td>0.30</td>\n",
       "    </tr>\n",
       "    <tr>\n",
       "      <th>50%</th>\n",
       "      <td>5.80</td>\n",
       "      <td>3.00</td>\n",
       "      <td>4.35</td>\n",
       "      <td>1.30</td>\n",
       "    </tr>\n",
       "    <tr>\n",
       "      <th>75%</th>\n",
       "      <td>6.40</td>\n",
       "      <td>3.30</td>\n",
       "      <td>5.10</td>\n",
       "      <td>1.80</td>\n",
       "    </tr>\n",
       "    <tr>\n",
       "      <th>max</th>\n",
       "      <td>7.90</td>\n",
       "      <td>4.40</td>\n",
       "      <td>6.90</td>\n",
       "      <td>2.50</td>\n",
       "    </tr>\n",
       "  </tbody>\n",
       "</table>\n",
       "</div>"
      ],
      "text/plain": [
       "       SepalLengthCm  SepalWidthCm  PetalLengthCm  PetalWidthCm\n",
       "count         150.00        150.00         150.00        150.00\n",
       "mean            5.84          3.05           3.76          1.20\n",
       "std             0.83          0.43           1.76          0.76\n",
       "min             4.30          2.00           1.00          0.10\n",
       "25%             5.10          2.80           1.60          0.30\n",
       "50%             5.80          3.00           4.35          1.30\n",
       "75%             6.40          3.30           5.10          1.80\n",
       "max             7.90          4.40           6.90          2.50"
      ]
     },
     "execution_count": 5,
     "metadata": {},
     "output_type": "execute_result"
    }
   ],
   "source": [
    "data.drop(['Id','Species'], axis=1).describe().round(2)"
   ]
  },
  {
   "cell_type": "markdown",
   "id": "7e567d70",
   "metadata": {},
   "source": [
    "**Plotting the data on a 2d graph**"
   ]
  },
  {
   "cell_type": "markdown",
   "id": "8649c306",
   "metadata": {},
   "source": [
    "Sepal length vs Sepal width"
   ]
  },
  {
   "cell_type": "code",
   "execution_count": 6,
   "id": "7ed65c4e",
   "metadata": {},
   "outputs": [
    {
     "data": {
      "image/png": "[encoded data removed]",
      "text/plain": [
       "<Figure size 432x288 with 1 Axes>"
      ]
     },
     "metadata": {
      "needs_background": "light"
     },
     "output_type": "display_data"
    }
   ],
   "source": [
    "plt.title('Sepal length vs Sepal width')\n",
    "plt.scatter(data['SepalLengthCm'].values,data['SepalWidthCm'].values)\n",
    "plt.xlabel('Sepal length')\n",
    "plt.ylabel('Sepal width')\n",
    "plt.show()"
   ]
  },
  {
   "cell_type": "markdown",
   "id": "5fab49e5",
   "metadata": {},
   "source": [
    "Petal length vs Petal width"
   ]
  },
  {
   "cell_type": "code",
   "execution_count": 7,
   "id": "ffed32ed",
   "metadata": {},
   "outputs": [
    {
     "data": {
      "image/png": "[encoded data removed]",
      "text/plain": [
       "<Figure size 432x288 with 1 Axes>"
      ]
     },
     "metadata": {
      "needs_background": "light"
     },
     "output_type": "display_data"
    }
   ],
   "source": [
    "plt.title('Petal length vs Petal width')\n",
    "plt.scatter(data['PetalLengthCm'].values,data['PetalWidthCm'].values)\n",
    "plt.xlabel('Petal length')\n",
    "plt.ylabel('Petal width')\n",
    "plt.show()"
   ]
  },
  {
   "cell_type": "markdown",
   "id": "a7f4c889",
   "metadata": {},
   "source": [
    "Sepal length vs Petal length"
   ]
  },
  {
   "cell_type": "code",
   "execution_count": 8,
   "id": "fd609f8c",
   "metadata": {},
   "outputs": [
    {
     "data": {
      "image/png": "[encoded data removed]",
      "text/plain": [
       "<Figure size 432x288 with 1 Axes>"
      ]
     },
     "metadata": {
      "needs_background": "light"
     },
     "output_type": "display_data"
    }
   ],
   "source": [
    "plt.title('Sepal length vs Petal length')\n",
    "plt.scatter(data['SepalLengthCm'].values,data['PetalLengthCm'].values)\n",
    "plt.xlabel('Sepal length')\n",
    "plt.ylabel('Petal length')\n",
    "plt.show()"
   ]
  },
  {
   "cell_type": "markdown",
   "id": "93f9e0fb",
   "metadata": {},
   "source": [
    "Sepal width vs Petal width"
   ]
  },
  {
   "cell_type": "code",
   "execution_count": 9,
   "id": "62d60996",
   "metadata": {},
   "outputs": [
    {
     "data": {
      "image/png": "[encoded data removed]",
      "text/plain": [
       "<Figure size 432x288 with 1 Axes>"
      ]
     },
     "metadata": {
      "needs_background": "light"
     },
     "output_type": "display_data"
    }
   ],
   "source": [
    "plt.title('Sepal width vs Petal width')\n",
    "plt.scatter(data['SepalWidthCm'].values,data['PetalWidthCm'].values)\n",
    "plt.xlabel('Sepal width')\n",
    "plt.ylabel('Petal width')\n",
    "plt.show()"
   ]
  },
  {
   "cell_type": "markdown",
   "id": "529c33ae",
   "metadata": {},
   "source": [
    "**Splitting the data**"
   ]
  },
  {
   "cell_type": "code",
   "execution_count": 10,
   "id": "6e179c07",
   "metadata": {},
   "outputs": [
    {
     "data": {
      "text/html": [
       "<div>\n",
       "<style scoped>\n",
       "    .dataframe tbody tr th:only-of-type {\n",
       "        vertical-align: middle;\n",
       "    }\n",
       "\n",
       "    .dataframe tbody tr th {\n",
       "        vertical-align: top;\n",
       "    }\n",
       "\n",
       "    .dataframe thead th {\n",
       "        text-align: right;\n",
       "    }\n",
       "</style>\n",
       "<table border=\"1\" class=\"dataframe\">\n",
       "  <thead>\n",
       "    <tr style=\"text-align: right;\">\n",
       "      <th></th>\n",
       "      <th>SepalLengthCm</th>\n",
       "      <th>SepalWidthCm</th>\n",
       "      <th>PetalLengthCm</th>\n",
       "      <th>PetalWidthCm</th>\n",
       "    </tr>\n",
       "  </thead>\n",
       "  <tbody>\n",
       "    <tr>\n",
       "      <th>0</th>\n",
       "      <td>5.1</td>\n",
       "      <td>3.5</td>\n",
       "      <td>1.4</td>\n",
       "      <td>0.2</td>\n",
       "    </tr>\n",
       "    <tr>\n",
       "      <th>1</th>\n",
       "      <td>4.9</td>\n",
       "      <td>3.0</td>\n",
       "      <td>1.4</td>\n",
       "      <td>0.2</td>\n",
       "    </tr>\n",
       "    <tr>\n",
       "      <th>2</th>\n",
       "      <td>4.7</td>\n",
       "      <td>3.2</td>\n",
       "      <td>1.3</td>\n",
       "      <td>0.2</td>\n",
       "    </tr>\n",
       "    <tr>\n",
       "      <th>3</th>\n",
       "      <td>4.6</td>\n",
       "      <td>3.1</td>\n",
       "      <td>1.5</td>\n",
       "      <td>0.2</td>\n",
       "    </tr>\n",
       "    <tr>\n",
       "      <th>4</th>\n",
       "      <td>5.0</td>\n",
       "      <td>3.6</td>\n",
       "      <td>1.4</td>\n",
       "      <td>0.2</td>\n",
       "    </tr>\n",
       "  </tbody>\n",
       "</table>\n",
       "</div>"
      ],
      "text/plain": [
       "   SepalLengthCm  SepalWidthCm  PetalLengthCm  PetalWidthCm\n",
       "0            5.1           3.5            1.4           0.2\n",
       "1            4.9           3.0            1.4           0.2\n",
       "2            4.7           3.2            1.3           0.2\n",
       "3            4.6           3.1            1.5           0.2\n",
       "4            5.0           3.6            1.4           0.2"
      ]
     },
     "execution_count": 10,
     "metadata": {},
     "output_type": "execute_result"
    }
   ],
   "source": [
    "# Splitting the data into attributes and target\n",
    "x = data.iloc[:,1:-1]\n",
    "x.head()                            # Attributes"
   ]
  },
  {
   "cell_type": "code",
   "execution_count": 11,
   "id": "db533f4f",
   "metadata": {},
   "outputs": [
    {
     "data": {
      "text/html": [
       "<div>\n",
       "<style scoped>\n",
       "    .dataframe tbody tr th:only-of-type {\n",
       "        vertical-align: middle;\n",
       "    }\n",
       "\n",
       "    .dataframe tbody tr th {\n",
       "        vertical-align: top;\n",
       "    }\n",
       "\n",
       "    .dataframe thead th {\n",
       "        text-align: right;\n",
       "    }\n",
       "</style>\n",
       "<table border=\"1\" class=\"dataframe\">\n",
       "  <thead>\n",
       "    <tr style=\"text-align: right;\">\n",
       "      <th></th>\n",
       "      <th>Species</th>\n",
       "    </tr>\n",
       "  </thead>\n",
       "  <tbody>\n",
       "    <tr>\n",
       "      <th>0</th>\n",
       "      <td>Iris-setosa</td>\n",
       "    </tr>\n",
       "    <tr>\n",
       "      <th>1</th>\n",
       "      <td>Iris-setosa</td>\n",
       "    </tr>\n",
       "    <tr>\n",
       "      <th>2</th>\n",
       "      <td>Iris-setosa</td>\n",
       "    </tr>\n",
       "    <tr>\n",
       "      <th>3</th>\n",
       "      <td>Iris-setosa</td>\n",
       "    </tr>\n",
       "    <tr>\n",
       "      <th>4</th>\n",
       "      <td>Iris-setosa</td>\n",
       "    </tr>\n",
       "  </tbody>\n",
       "</table>\n",
       "</div>"
      ],
      "text/plain": [
       "       Species\n",
       "0  Iris-setosa\n",
       "1  Iris-setosa\n",
       "2  Iris-setosa\n",
       "3  Iris-setosa\n",
       "4  Iris-setosa"
      ]
     },
     "execution_count": 11,
     "metadata": {},
     "output_type": "execute_result"
    }
   ],
   "source": [
    "y = data.iloc[:,-1:]\n",
    "y.head()                            # Target"
   ]
  },
  {
   "cell_type": "code",
   "execution_count": 12,
   "id": "c5505ae3",
   "metadata": {},
   "outputs": [],
   "source": [
    "# Splitting the data into training and testing sets\n",
    "\n",
    "x_train,x_test,y_train,y_test = train_test_split(x,y,random_state= 1)"
   ]
  },
  {
   "cell_type": "markdown",
   "id": "ed9a6ea9",
   "metadata": {},
   "source": [
    "**Preparing the Decision Tree Classifier**"
   ]
  },
  {
   "cell_type": "code",
   "execution_count": 13,
   "id": "61cdef9e",
   "metadata": {},
   "outputs": [],
   "source": [
    "# Criterion to test the quality of split can be 'gini' for gini impurity and 'entropy' for information gain.\n",
    "\n",
    "dtc = DecisionTreeClassifier(criterion='entropy')"
   ]
  },
  {
   "cell_type": "code",
   "execution_count": 14,
   "id": "79920a09",
   "metadata": {},
   "outputs": [
    {
     "data": {
      "text/plain": [
       "DecisionTreeClassifier(criterion='entropy')"
      ]
     },
     "execution_count": 14,
     "metadata": {},
     "output_type": "execute_result"
    }
   ],
   "source": [
    "dtc.fit(x_train,y_train)"
   ]
  },
  {
   "cell_type": "markdown",
   "id": "94ef5459",
   "metadata": {},
   "source": [
    "**Plotting the decision tree classifier with labels**"
   ]
  },
  {
   "cell_type": "code",
   "execution_count": 15,
   "id": "76986175",
   "metadata": {},
   "outputs": [
    {
     "data": {
      "text/plain": [
       "[Text(133.92000000000002, 199.32, 'PetalWidthCm <= 0.8\\nentropy = 1.581\\nsamples = 112\\nvalue = [37, 34, 41]\\nclass = Iris-virginica'),\n",
       " Text(100.44000000000001, 163.07999999999998, 'entropy = 0.0\\nsamples = 37\\nvalue = [37, 0, 0]\\nclass = Iris-setosa'),\n",
       " Text(167.40000000000003, 163.07999999999998, 'PetalWidthCm <= 1.65\\nentropy = 0.994\\nsamples = 75\\nvalue = [0, 34, 41]\\nclass = Iris-virginica'),\n",
       " Text(66.96000000000001, 126.83999999999999, 'PetalLengthCm <= 4.95\\nentropy = 0.494\\nsamples = 37\\nvalue = [0, 33, 4]\\nclass = Iris-versicolor'),\n",
       " Text(33.480000000000004, 90.6, 'entropy = 0.0\\nsamples = 32\\nvalue = [0, 32, 0]\\nclass = Iris-versicolor'),\n",
       " Text(100.44000000000001, 90.6, 'PetalWidthCm <= 1.55\\nentropy = 0.722\\nsamples = 5\\nvalue = [0, 1, 4]\\nclass = Iris-virginica'),\n",
       " Text(66.96000000000001, 54.359999999999985, 'entropy = 0.0\\nsamples = 3\\nvalue = [0, 0, 3]\\nclass = Iris-virginica'),\n",
       " Text(133.92000000000002, 54.359999999999985, 'SepalWidthCm <= 2.85\\nentropy = 1.0\\nsamples = 2\\nvalue = [0, 1, 1]\\nclass = Iris-versicolor'),\n",
       " Text(100.44000000000001, 18.119999999999976, 'entropy = 0.0\\nsamples = 1\\nvalue = [0, 1, 0]\\nclass = Iris-versicolor'),\n",
       " Text(167.40000000000003, 18.119999999999976, 'entropy = 0.0\\nsamples = 1\\nvalue = [0, 0, 1]\\nclass = Iris-virginica'),\n",
       " Text(267.84000000000003, 126.83999999999999, 'PetalLengthCm <= 4.85\\nentropy = 0.176\\nsamples = 38\\nvalue = [0, 1, 37]\\nclass = Iris-virginica'),\n",
       " Text(234.36, 90.6, 'SepalWidthCm <= 3.1\\nentropy = 0.811\\nsamples = 4\\nvalue = [0, 1, 3]\\nclass = Iris-virginica'),\n",
       " Text(200.88000000000002, 54.359999999999985, 'entropy = 0.0\\nsamples = 3\\nvalue = [0, 0, 3]\\nclass = Iris-virginica'),\n",
       " Text(267.84000000000003, 54.359999999999985, 'entropy = 0.0\\nsamples = 1\\nvalue = [0, 1, 0]\\nclass = Iris-versicolor'),\n",
       " Text(301.32000000000005, 90.6, 'entropy = 0.0\\nsamples = 34\\nvalue = [0, 0, 34]\\nclass = Iris-virginica')]"
      ]
     },
     "execution_count": 15,
     "metadata": {},
     "output_type": "execute_result"
    },
    {
     "data": {
      "image/png": "[encoded data removed]",
      "text/plain": [
       "<Figure size 432x288 with 1 Axes>"
      ]
     },
     "metadata": {
      "needs_background": "light"
     },
     "output_type": "display_data"
    }
   ],
   "source": [
    "# Plot_tree returns the decision tree plot along with the annotations.\n",
    "\n",
    "tree.plot_tree(dtc,feature_names=x.columns,class_names=y.Species.unique(),filled=True)"
   ]
  },
  {
   "cell_type": "code",
   "execution_count": 16,
   "id": "b7428c40",
   "metadata": {},
   "outputs": [
    {
     "data": {
      "image/png": "[encoded data removed]",
      "text/plain": [
       "<Figure size 432x288 with 1 Axes>"
      ]
     },
     "metadata": {
      "needs_background": "light"
     },
     "output_type": "display_data"
    }
   ],
   "source": [
    "# If we don't want to see the annotations, we can return the annotatinos to '_'\n",
    "\n",
    "_ = tree.plot_tree(dtc,feature_names=x.columns,class_names=y.Species.unique(),filled=True)"
   ]
  },
  {
   "cell_type": "markdown",
   "id": "f9d2734e",
   "metadata": {},
   "source": [
    "**Predicting the labels**"
   ]
  },
  {
   "cell_type": "code",
   "execution_count": 17,
   "id": "53a1e220",
   "metadata": {},
   "outputs": [],
   "source": [
    "y_pred = dtc.predict(x_test)"
   ]
  },
  {
   "cell_type": "markdown",
   "id": "a9c074ad",
   "metadata": {},
   "source": [
    "**Calculating the accuracy of our model**"
   ]
  },
  {
   "cell_type": "code",
   "execution_count": 18,
   "id": "4b16f6bc",
   "metadata": {},
   "outputs": [
    {
     "name": "stdout",
     "output_type": "stream",
     "text": [
      "Our model is 97.37% accurate\n"
     ]
    }
   ],
   "source": [
    "# Decision tree classifier has an in-built function to calculate the accuracy we just need to pass the testing sets as arguments\n",
    "\n",
    "acc = dtc.score(x_test,y_test)\n",
    "print(\"Our model is {:.2f}% accurate\".format(acc*100))"
   ]
  },
  {
   "cell_type": "markdown",
   "id": "fc383460",
   "metadata": {},
   "source": [
    "# Configurations of our Decision Tree Classifier"
   ]
  },
  {
   "cell_type": "code",
   "execution_count": 19,
   "id": "a2e36515",
   "metadata": {},
   "outputs": [
    {
     "name": "stdout",
     "output_type": "stream",
     "text": [
      "{'ccp_alpha': 0.0, 'class_weight': None, 'criterion': 'entropy', 'max_depth': None, 'max_features': None, 'max_leaf_nodes': None, 'min_impurity_decrease': 0.0, 'min_impurity_split': None, 'min_samples_leaf': 1, 'min_samples_split': 2, 'min_weight_fraction_leaf': 0.0, 'random_state': None, 'splitter': 'best'}\n"
     ]
    }
   ],
   "source": [
    "# Parameters of our Decision Tree Classifier.\n",
    "\n",
    "parameters = dtc.get_params(deep=True)\n",
    "print(parameters)"
   ]
  },
  {
   "cell_type": "code",
   "execution_count": 20,
   "id": "5cafb9bd",
   "metadata": {},
   "outputs": [
    {
     "name": "stdout",
     "output_type": "stream",
     "text": [
      "Number of leaf nodes: 8\n"
     ]
    }
   ],
   "source": [
    "# Number of leaf nodes in our model.\n",
    "\n",
    "leaves = dtc.tree_.n_leaves\n",
    "print(\"Number of leaf nodes:\",leaves)"
   ]
  },
  {
   "cell_type": "markdown",
   "id": "10138921",
   "metadata": {},
   "source": [
    "Generally, the computational complexity for a Decision Tree Classifer is computed as **O(n|D|log(|D|))**\n",
    "\n",
    "Where, 'n' is number of attributes<br>\n",
    "       |D| is number of training tuples."
   ]
  },
  {
   "cell_type": "code",
   "execution_count": 21,
   "id": "9f969c5f",
   "metadata": {},
   "outputs": [
    {
     "name": "stdout",
     "output_type": "stream",
     "text": [
      "Number of attributes: 4\n",
      "Number of training tuples: 112\n"
     ]
    }
   ],
   "source": [
    "n_attr = len(x_train.columns)\n",
    "n_tuples = len(x_train)\n",
    "print(\"Number of attributes:\",n_attr)\n",
    "print(\"Number of training tuples:\", n_tuples)"
   ]
  },
  {
   "cell_type": "markdown",
   "id": "cce3423f",
   "metadata": {},
   "source": [
    "Therefore, computational complexity of our model is<br>\n",
    "**O(448 x log(112))**"
   ]
  },
  {
   "cell_type": "code",
   "execution_count": 22,
   "id": "024c7f77",
   "metadata": {},
   "outputs": [
    {
     "data": {
      "text/plain": [
       "{'ccp_alphas': array([0.        , 0.62018631, 0.92681906]),\n",
       " 'impurities': array([0.        , 0.62018631, 1.54700537])}"
      ]
     },
     "execution_count": 22,
     "metadata": {},
     "output_type": "execute_result"
    }
   ],
   "source": [
    "# Cost complexity\n",
    "\n",
    "dtc.cost_complexity_pruning_path(x_test,y_test)"
   ]
  },
  {
   "cell_type": "code",
   "execution_count": 23,
   "id": "cb088693",
   "metadata": {},
   "outputs": [
    {
     "name": "stdout",
     "output_type": "stream",
     "text": [
      "Number of nodes: 15\n"
     ]
    }
   ],
   "source": [
    "# Number of nodes in the tree\n",
    "\n",
    "nodes = dtc.tree_.node_count\n",
    "print(\"Number of nodes:\",nodes)"
   ]
  },
  {
   "cell_type": "code",
   "execution_count": 24,
   "id": "4d47bb69",
   "metadata": {},
   "outputs": [
    {
     "name": "stdout",
     "output_type": "stream",
     "text": [
      "Depth of the tree: 5\n"
     ]
    }
   ],
   "source": [
    "# Maximum depth of the tree\n",
    "\n",
    "depth = dtc.tree_.max_depth\n",
    "print(\"Depth of the tree:\",depth)"
   ]
  }
 ],
 "metadata": {
  "kernelspec": {
   "display_name": "Python 3",
   "language": "python",
   "name": "python3"
  },
  "language_info": {
   "codemirror_mode": {
    "name": "ipython",
    "version": 3
   },
   "file_extension": ".py",
   "mimetype": "text/x-python",
   "name": "python",
   "nbconvert_exporter": "python",
   "pygments_lexer": "ipython3",
   "version": "3.8.7"
  }
 },
 "nbformat": 4,
 "nbformat_minor": 5
}
